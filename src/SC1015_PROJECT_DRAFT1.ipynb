{
 "cells": [
  {
   "cell_type": "markdown",
   "id": "bc21f36f",
   "metadata": {},
   "source": [
    "# SC1015 MINI-PROJECT"
   ]
  },
  {
   "cell_type": "markdown",
   "id": "f06e07b5",
   "metadata": {},
   "source": [
    "OBJECTIVE: TO FIND THE BEST METHODOLOGY IN PREDICTING STOCK PRICES"
   ]
  },
  {
   "cell_type": "markdown",
   "id": "27b38801",
   "metadata": {},
   "source": [
    "SECTION 1: IMPORTING NECESSARY LIBRARIES\n",
    "\n",
    "SECTION 2: DATA PREPROCESSING\n",
    "\n",
    "SECTION 3: RMSE AND MAPE\n",
    "\n",
    "SECTION 4: #1 NAIVE\n",
    "\n",
    "SECTION 5: #2 MA-30; MA-50; MA-200\n",
    "\n",
    "SECTION 6: #3 Exponential Smoothing\n",
    "\n",
    "SECTION 7: #4 LSTM\n",
    "\n",
    "SECTION 8: CONCLUSION"
   ]
  },
  {
   "cell_type": "markdown",
   "id": "990b40eb",
   "metadata": {},
   "source": [
    "# SECTION 1 - IMPORTING NECESSARY LIBRARIES"
   ]
  },
  {
   "cell_type": "code",
   "execution_count": 1,
   "id": "0117e05c",
   "metadata": {},
   "outputs": [],
   "source": [
    "import requests\n",
    "import numpy as np\n",
    "import pandas as pd\n",
    "import matplotlib.pyplot as plt\n",
    "import seaborn as sns\n",
    "sns.set()\n",
    "%matplotlib inline"
   ]
  },
  {
   "cell_type": "markdown",
   "id": "1b9f04cf",
   "metadata": {},
   "source": [
    "# SECTION 2 - DATA PREPROCESSING"
   ]
  },
  {
   "cell_type": "code",
   "execution_count": 19,
   "id": "fb869f5d",
   "metadata": {},
   "outputs": [],
   "source": [
    "stock_cleaned_data = pd.read_csv('../data/stock_cleaned_data.csv', index_col = 0)"
   ]
  },
  {
   "cell_type": "code",
   "execution_count": 20,
   "id": "6a410ba9",
   "metadata": {},
   "outputs": [
    {
     "data": {
      "text/html": [
       "<div>\n",
       "<style scoped>\n",
       "    .dataframe tbody tr th:only-of-type {\n",
       "        vertical-align: middle;\n",
       "    }\n",
       "\n",
       "    .dataframe tbody tr th {\n",
       "        vertical-align: top;\n",
       "    }\n",
       "\n",
       "    .dataframe thead th {\n",
       "        text-align: right;\n",
       "    }\n",
       "</style>\n",
       "<table border=\"1\" class=\"dataframe\">\n",
       "  <thead>\n",
       "    <tr style=\"text-align: right;\">\n",
       "      <th></th>\n",
       "      <th>open</th>\n",
       "      <th>high</th>\n",
       "      <th>low</th>\n",
       "      <th>close</th>\n",
       "      <th>adjclose</th>\n",
       "      <th>volume</th>\n",
       "    </tr>\n",
       "    <tr>\n",
       "      <th>date</th>\n",
       "      <th></th>\n",
       "      <th></th>\n",
       "      <th></th>\n",
       "      <th></th>\n",
       "      <th></th>\n",
       "      <th></th>\n",
       "    </tr>\n",
       "  </thead>\n",
       "  <tbody>\n",
       "    <tr>\n",
       "      <th>2023-04-18</th>\n",
       "      <td>415.58</td>\n",
       "      <td>415.72</td>\n",
       "      <td>412.7802</td>\n",
       "      <td>414.21</td>\n",
       "      <td>414.21</td>\n",
       "      <td>63559997</td>\n",
       "    </tr>\n",
       "    <tr>\n",
       "      <th>2023-04-17</th>\n",
       "      <td>412.37</td>\n",
       "      <td>413.96</td>\n",
       "      <td>411.0850</td>\n",
       "      <td>413.94</td>\n",
       "      <td>413.94</td>\n",
       "      <td>65496534</td>\n",
       "    </tr>\n",
       "    <tr>\n",
       "      <th>2023-04-14</th>\n",
       "      <td>412.81</td>\n",
       "      <td>415.09</td>\n",
       "      <td>410.0600</td>\n",
       "      <td>412.46</td>\n",
       "      <td>412.46</td>\n",
       "      <td>78161500</td>\n",
       "    </tr>\n",
       "    <tr>\n",
       "      <th>2023-04-13</th>\n",
       "      <td>409.18</td>\n",
       "      <td>413.84</td>\n",
       "      <td>407.9922</td>\n",
       "      <td>413.47</td>\n",
       "      <td>413.47</td>\n",
       "      <td>85814754</td>\n",
       "    </tr>\n",
       "    <tr>\n",
       "      <th>2023-04-12</th>\n",
       "      <td>411.87</td>\n",
       "      <td>412.17</td>\n",
       "      <td>407.4400</td>\n",
       "      <td>408.05</td>\n",
       "      <td>408.05</td>\n",
       "      <td>86420379</td>\n",
       "    </tr>\n",
       "  </tbody>\n",
       "</table>\n",
       "</div>"
      ],
      "text/plain": [
       "              open    high       low   close  adjclose    volume\n",
       "date                                                            \n",
       "2023-04-18  415.58  415.72  412.7802  414.21    414.21  63559997\n",
       "2023-04-17  412.37  413.96  411.0850  413.94    413.94  65496534\n",
       "2023-04-14  412.81  415.09  410.0600  412.46    412.46  78161500\n",
       "2023-04-13  409.18  413.84  407.9922  413.47    413.47  85814754\n",
       "2023-04-12  411.87  412.17  407.4400  408.05    408.05  86420379"
      ]
     },
     "execution_count": 20,
     "metadata": {},
     "output_type": "execute_result"
    }
   ],
   "source": [
    "stock_cleaned_data.head()"
   ]
  },
  {
   "cell_type": "markdown",
   "id": "5c885510",
   "metadata": {},
   "source": [
    "# SECTION 3 - RMSE AND MAPE"
   ]
  },
  {
   "cell_type": "code",
   "execution_count": null,
   "id": "00134bcf",
   "metadata": {},
   "outputs": [],
   "source": []
  },
  {
   "cell_type": "markdown",
   "id": "00e19157",
   "metadata": {},
   "source": [
    "# SECTION 4 - #1 NAIVE"
   ]
  },
  {
   "cell_type": "code",
   "execution_count": null,
   "id": "ebfc22b3",
   "metadata": {},
   "outputs": [],
   "source": []
  },
  {
   "cell_type": "markdown",
   "id": "18db3aca",
   "metadata": {},
   "source": [
    "# SECTION 5 - #2 MA-30; MA-50; MA-200"
   ]
  },
  {
   "cell_type": "code",
   "execution_count": null,
   "id": "cb259559",
   "metadata": {},
   "outputs": [],
   "source": []
  },
  {
   "cell_type": "markdown",
   "id": "266779f8",
   "metadata": {},
   "source": [
    "# SECTION 6 - #3 EXPONENTIAL SMOOTHING"
   ]
  },
  {
   "cell_type": "code",
   "execution_count": 55,
   "id": "3441a04a",
   "metadata": {},
   "outputs": [],
   "source": [
    "#without trend\n",
    "length = 60\n",
    "alpha = 0.3\n",
    "x = np.array(stock_cleaned_data['adjclose'].iloc[:length])\n",
    "f = [x[0]]\n",
    "for i in range(0, len(x)):\n",
    "    f.append(alpha * x[i] + (1 - alpha) * f[i])\n",
    "\n",
    "    "
   ]
  },
  {
   "cell_type": "code",
   "execution_count": 57,
   "id": "04288bdd",
   "metadata": {},
   "outputs": [],
   "source": [
    "#with trend\n",
    "length = 60\n",
    "alpha = 0.3\n",
    "beta = 0.2\n",
    "x = np.array(stock_cleaned_data['adjclose'].iloc[:length])\n",
    "f = [x[0]]\n",
    "t = [[1]-x[0]]\n",
    "for i in range(0, len(x)):\n",
    "    f.append(alpha * x[i] + (1 - alpha) * (f[i] + t[i]))\n",
    "    t.append(beta * (f[i+1] - f[i]) + (1 - beta) * t[i])\n",
    "\n"
   ]
  },
  {
   "cell_type": "markdown",
   "id": "666bb26a",
   "metadata": {},
   "source": [
    "# SECTION 7 - #4 LSTM"
   ]
  },
  {
   "cell_type": "code",
   "execution_count": null,
   "id": "a1862266",
   "metadata": {},
   "outputs": [],
   "source": []
  },
  {
   "cell_type": "markdown",
   "id": "5b245f7d",
   "metadata": {},
   "source": [
    "# SECTION 8 - CONCLUSION"
   ]
  },
  {
   "cell_type": "code",
   "execution_count": null,
   "id": "8edeadb0",
   "metadata": {},
   "outputs": [],
   "source": []
  }
 ],
 "metadata": {
  "kernelspec": {
   "display_name": "tensorflow",
   "language": "python",
   "name": "tensorflow"
  },
  "language_info": {
   "codemirror_mode": {
    "name": "ipython",
    "version": 3
   },
   "file_extension": ".py",
   "mimetype": "text/x-python",
   "name": "python",
   "nbconvert_exporter": "python",
   "pygments_lexer": "ipython3",
   "version": "3.9.16"
  }
 },
 "nbformat": 4,
 "nbformat_minor": 5
}
